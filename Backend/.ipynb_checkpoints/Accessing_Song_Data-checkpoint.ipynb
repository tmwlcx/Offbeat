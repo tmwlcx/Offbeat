{
 "cells": [
  {
   "attachments": {},
   "cell_type": "markdown",
   "metadata": {},
   "source": [
    "Before you can get access, request to have Jeff whitelist your public IP address.  Find it by going to [whatsmyip](https://www.whatsmyip.org/).\n",
    "\n",
    "### Option 1 - mySQL workbench\n",
    "\n",
    "Download mySQL workbench and use the following connection details:\n",
    "\n",
    "* hostname: 35.196.88.209\n",
    "\n",
    "* port: 3306\n",
    "\n",
    "* username: teameleven\n",
    "\n",
    "* password: dbpassword\n",
    "\n",
    "* default schema: SPOTIFY\n",
    "\n",
    "![image.png](attachment:/mysql.PNG)"
   ]
  },
  {
   "cell_type": "markdown",
   "metadata": {},
   "source": [
    "### Option 2 - Python / Pandas\n",
    "\n",
    "Make sure you have the pandas and pymsql packages installed.\n",
    "\n",
    "Use the code below to connect and make a dataframe.  \n",
    "*Please note that you **can** export the entire songs database at once.  I have a shitty laptop and the whole table fit in memory at once.  However, for this code I added limit 100 as a test case.*"
   ]
  },
  {
   "cell_type": "code",
   "execution_count": 2,
   "metadata": {},
   "outputs": [],
   "source": [
    "import pymysql\n",
    "import pandas as pd\n",
    "\n",
    "conn = pymysql.connect('35.196.88.209', 'teameleven', 'dbpassword', 'SPOTIFY')\n",
    "sql = \"select * from songs limit 100;\"  "
   ]
  },
  {
   "cell_type": "code",
   "execution_count": 3,
   "metadata": {},
   "outputs": [],
   "source": [
    "songs = pd.read_sql(sql, conn)\n",
    "songs.head()"
   ]
  },
  {
   "cell_type": "code",
   "execution_count": 6,
   "metadata": {},
   "outputs": [],
   "source": [
    "# some of the songs have commas in the title, so use pipe delimiter\n",
    "songs.to_csv(r'C:\\Users\\jeffr\\Desktop\\song_outputs.csv', index=False, sep='|')"
   ]
  },
  {
   "cell_type": "code",
   "execution_count": null,
   "metadata": {},
   "outputs": [],
   "source": []
  }
 ],
 "metadata": {
  "kernelspec": {
   "display_name": "Python 3",
   "language": "python",
   "name": "python3"
  },
  "language_info": {
   "codemirror_mode": {
    "name": "ipython",
    "version": 3
   },
   "file_extension": ".py",
   "mimetype": "text/x-python",
   "name": "python",
   "nbconvert_exporter": "python",
   "pygments_lexer": "ipython3",
   "version": "3.7.3"
  }
 },
 "nbformat": 4,
 "nbformat_minor": 2
}
